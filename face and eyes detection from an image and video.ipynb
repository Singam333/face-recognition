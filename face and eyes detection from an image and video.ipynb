{
 "cells": [
  {
   "cell_type": "code",
   "execution_count": 1,
   "metadata": {},
   "outputs": [],
   "source": [
    "import cv2"
   ]
  },
  {
   "cell_type": "code",
   "execution_count": 2,
   "metadata": {},
   "outputs": [],
   "source": [
    "# detects the face and eyes of the persons in the image provided to it.\n",
    "face_cascade = cv2.CascadeClassifier(\"C:\\\\Users\\Sinagam Pradeep\\Anaconda3\\Lib\\site-packages\\cv2\\data\\haarcascade_frontalface_default.xml\")\n",
    "eye_cascade = cv2.CascadeClassifier('C:\\\\Users\\Sinagam Pradeep\\Anaconda3\\Lib\\site-packages\\cv2\\data\\haarcascade_eye.xml')\n",
    "\n",
    "img = cv2.imread(\"test.JPG\")\n",
    "img=cv2.resize(img,(1200,800))\n",
    "gray = cv2.cvtColor(img,cv2.COLOR_BGR2GRAY)\n",
    "cv2.imshow(\"friends\",img)\n",
    "\n",
    "faces = face_cascade.detectMultiScale(gray, 1.3, 5)\n",
    "for (x,y,w,h) in faces:\n",
    "    img = cv2.rectangle(img,(x,y),(x+w,y+h),(255,0,0),2)\n",
    "    eyes = eye_cascade.detectMultiScale(gray, 1.3, 5)\n",
    "    for (ex,ey,ew,eh) in eyes:\n",
    "        img=cv2.rectangle(img,(ex,ey),(ex+ew,ey+eh),(0,255,0),2)\n",
    "\n",
    "cv2.imshow('image',img)\n",
    "cv2.waitKey(0)\n",
    "cv2.destroyAllWindows()\n"
   ]
  },
  {
   "cell_type": "code",
   "execution_count": 5,
   "metadata": {},
   "outputs": [],
   "source": [
    "#all faces and eyes in a video or webcame recorded is detected\n",
    "import time\n",
    "video=cv2.VideoCapture(0)\n",
    "face_cascade = cv2.CascadeClassifier(\"C:\\\\Users\\Sinagam Pradeep\\Anaconda3\\Lib\\site-packages\\cv2\\data\\haarcascade_frontalface_default.xml\")\n",
    "eye_cascade = cv2.CascadeClassifier('C:\\\\Users\\Sinagam Pradeep\\Anaconda3\\Lib\\site-packages\\cv2\\data\\haarcascade_eye.xml')\n",
    "while True:\n",
    "    check,frame=video.read() #to check whether recording is captured or not and to store the frame in frame variable\n",
    "    grey = cv2.cvtColor(frame,cv2.COLOR_BGR2GRAY) # converting frame to grey scale\n",
    "    faces = face_cascade.detectMultiScale(grey, 1.3, 5)\n",
    "    for (x,y,w,h) in faces:\n",
    "        img = cv2.rectangle(frame,(x,y),(x+w,y+h),(255,0,0),2)\n",
    "        eyes = eye_cascade.detectMultiScale(grey, 1.3, 5)\n",
    "        for (ex,ey,ew,eh) in eyes: \n",
    "            img=cv2.rectangle(img,(ex,ey),(ex+ew,ey+eh),(0,255,0),2) #here the eyes are searched on te entire image you can edited the found face and change coordinates and search for eyes only in thes coordinates\n",
    "\n",
    "    cv2.imshow('image',frame)\n",
    "    key=cv2.waitKey(1) \n",
    "    if(key==ord(\"s\")): \n",
    "        break\n",
    "video.release()\n",
    "cv2.destroyAllWindows()"
   ]
  }
 ],
 "metadata": {
  "kernelspec": {
   "display_name": "Python 3",
   "language": "python",
   "name": "python3"
  },
  "language_info": {
   "codemirror_mode": {
    "name": "ipython",
    "version": 3
   },
   "file_extension": ".py",
   "mimetype": "text/x-python",
   "name": "python",
   "nbconvert_exporter": "python",
   "pygments_lexer": "ipython3",
   "version": "3.7.3"
  }
 },
 "nbformat": 4,
 "nbformat_minor": 2
}
